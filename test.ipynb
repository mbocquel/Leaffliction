{
 "cells": [
  {
   "cell_type": "code",
   "execution_count": 1,
   "id": "3984b4e7",
   "metadata": {},
   "outputs": [],
   "source": [
    "import os"
   ]
  },
  {
   "cell_type": "code",
   "execution_count": 2,
   "id": "06c7a94f",
   "metadata": {},
   "outputs": [
    {
     "data": {
      "text/plain": [
       "'/Users/mbocquel/Documents/Leaf_propre'"
      ]
     },
     "execution_count": 2,
     "metadata": {},
     "output_type": "execute_result"
    }
   ],
   "source": [
    "os.getcwd()"
   ]
  },
  {
   "cell_type": "code",
   "execution_count": 8,
   "id": "94e19218",
   "metadata": {},
   "outputs": [
    {
     "data": {
      "text/plain": [
       "['image (16).JPG',\n",
       " 'image (17).JPG',\n",
       " 'image (14).JPG',\n",
       " 'image (18).JPG',\n",
       " 'image (19).JPG',\n",
       " 'image (15).JPG',\n",
       " 'image (12).JPG',\n",
       " 'image (13).JPG']"
      ]
     },
     "execution_count": 8,
     "metadata": {},
     "output_type": "execute_result"
    }
   ],
   "source": [
    "os.listdir(\"img_for_test/Distribution/test1/Grape_Esca\")"
   ]
  },
  {
   "cell_type": "code",
   "execution_count": null,
   "id": "35487988",
   "metadata": {},
   "outputs": [],
   "source": []
  }
 ],
 "metadata": {
  "kernelspec": {
   "display_name": "Python 3 (ipykernel)",
   "language": "python",
   "name": "python3"
  },
  "language_info": {
   "codemirror_mode": {
    "name": "ipython",
    "version": 3
   },
   "file_extension": ".py",
   "mimetype": "text/x-python",
   "name": "python",
   "nbconvert_exporter": "python",
   "pygments_lexer": "ipython3",
   "version": "3.12.3"
  }
 },
 "nbformat": 4,
 "nbformat_minor": 5
}
