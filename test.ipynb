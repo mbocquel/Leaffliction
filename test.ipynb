{
 "cells": [
  {
   "cell_type": "code",
   "execution_count": 1,
   "id": "3984b4e7",
   "metadata": {},
   "outputs": [],
   "source": [
    "import os"
   ]
  },
  {
   "cell_type": "code",
   "execution_count": 2,
   "id": "06c7a94f",
   "metadata": {},
   "outputs": [
    {
     "data": {
      "text/plain": [
       "'/Users/mbocquel/Documents/Leaf_propre'"
      ]
     },
     "execution_count": 2,
     "metadata": {},
     "output_type": "execute_result"
    }
   ],
   "source": [
    "os.getcwd()"
   ]
  },
  {
   "cell_type": "code",
   "execution_count": 3,
   "id": "94e19218",
   "metadata": {},
   "outputs": [
    {
     "data": {
      "text/plain": [
       "['image (16).JPG',\n",
       " 'image (17).JPG',\n",
       " 'image (14).JPG',\n",
       " 'image (18).JPG',\n",
       " 'image (19).JPG',\n",
       " 'image (15).JPG',\n",
       " 'image (12).JPG',\n",
       " 'image (13).JPG']"
      ]
     },
     "execution_count": 3,
     "metadata": {},
     "output_type": "execute_result"
    }
   ],
   "source": [
    "os.listdir(\"img_for_test/Distribution/test1/Grape_Esca\")"
   ]
  },
  {
   "cell_type": "code",
   "execution_count": 4,
   "id": "35487988",
   "metadata": {},
   "outputs": [],
   "source": [
    "from configs.config import CFG"
   ]
  },
  {
   "cell_type": "code",
   "execution_count": 2,
   "id": "39dd3f9f",
   "metadata": {},
   "outputs": [
    {
     "data": {
      "text/plain": [
       "{'data': {'path': 'data/', 'imgSize': 256, 'load_with_info': True},\n",
       " 'train': {'batch_size': 32,\n",
       "  'epoch': 15,\n",
       "  'train_split': 0.7,\n",
       "  'optimizer': 'adam',\n",
       "  'metrics': ['accuracy']},\n",
       " 'model': {'input_shape': [256, 256, 3]}}"
      ]
     },
     "execution_count": 2,
     "metadata": {},
     "output_type": "execute_result"
    }
   ],
   "source": [
    "CFG"
   ]
  },
  {
   "cell_type": "code",
   "execution_count": 4,
   "id": "3f1196fc",
   "metadata": {},
   "outputs": [],
   "source": [
    "type(CFG)\n",
    "import json"
   ]
  },
  {
   "cell_type": "code",
   "execution_count": 6,
   "id": "b30932ba",
   "metadata": {},
   "outputs": [
    {
     "data": {
      "text/plain": [
       "str"
      ]
     },
     "execution_count": 6,
     "metadata": {},
     "output_type": "execute_result"
    }
   ],
   "source": [
    "type(json.dumps(CFG))"
   ]
  },
  {
   "cell_type": "code",
   "execution_count": 8,
   "id": "1cf04730",
   "metadata": {},
   "outputs": [],
   "source": [
    "test = json.loads(json.dumps(CFG))"
   ]
  },
  {
   "cell_type": "code",
   "execution_count": 9,
   "id": "09a03ac2",
   "metadata": {},
   "outputs": [
    {
     "data": {
      "text/plain": [
       "dict"
      ]
     },
     "execution_count": 9,
     "metadata": {},
     "output_type": "execute_result"
    }
   ],
   "source": [
    "type(test)"
   ]
  },
  {
   "cell_type": "code",
   "execution_count": 16,
   "id": "0fdc14e8",
   "metadata": {},
   "outputs": [
    {
     "data": {
      "text/plain": [
       "{'data': {'path': 'data/', 'imgSize': 256, 'load_with_info': True},\n",
       " 'train': {'batch_size': 32,\n",
       "  'epoch': 15,\n",
       "  'train_split': 0.7,\n",
       "  'optimizer': 'adam',\n",
       "  'metrics': ['accuracy']},\n",
       " 'model': {'input_shape': [256, 256, 3]}}"
      ]
     },
     "execution_count": 16,
     "metadata": {},
     "output_type": "execute_result"
    }
   ],
   "source": [
    "test"
   ]
  },
  {
   "cell_type": "code",
   "execution_count": 17,
   "id": "36da152a",
   "metadata": {},
   "outputs": [],
   "source": [
    "\n",
    "class HelperObject(object):\n",
    "    \"\"\"Helper class to convert json into Python object\"\"\"\n",
    "    def __init__(self, dict_):\n",
    "        self.__dict__.update(dict_)"
   ]
  },
  {
   "cell_type": "code",
   "execution_count": 18,
   "id": "8e6fcdcd",
   "metadata": {},
   "outputs": [],
   "source": [
    "test2 = json.loads(json.dumps(CFG), object_hook=HelperObject)"
   ]
  },
  {
   "cell_type": "code",
   "execution_count": 24,
   "id": "45275763",
   "metadata": {},
   "outputs": [
    {
     "data": {
      "text/plain": [
       "'data/'"
      ]
     },
     "execution_count": 24,
     "metadata": {},
     "output_type": "execute_result"
    }
   ],
   "source": [
    "test2.data.path"
   ]
  },
  {
   "cell_type": "code",
   "execution_count": 29,
   "id": "86ce3d93",
   "metadata": {},
   "outputs": [
    {
     "data": {
      "text/plain": [
       "{'path': 'data/', 'imgSize': 256, 'load_with_info': True}"
      ]
     },
     "execution_count": 29,
     "metadata": {},
     "output_type": "execute_result"
    }
   ],
   "source": [
    "test2.data.__dict__"
   ]
  },
  {
   "cell_type": "code",
   "execution_count": 2,
   "id": "87481545",
   "metadata": {},
   "outputs": [],
   "source": [
    "from tensorflow.keras.applications import VGG16\n"
   ]
  },
  {
   "cell_type": "code",
   "execution_count": 3,
   "id": "fdca9ec4",
   "metadata": {},
   "outputs": [],
   "source": [
    "from tensorflow.keras.models import Sequential\n",
    "from tensorflow.keras.layers import Dense, Flatten, GlobalAveragePooling2D"
   ]
  },
  {
   "cell_type": "code",
   "execution_count": 5,
   "id": "a5e516b1",
   "metadata": {},
   "outputs": [
    {
     "name": "stdout",
     "output_type": "stream",
     "text": [
      "Downloading data from https://storage.googleapis.com/tensorflow/keras-applications/vgg16/vgg16_weights_tf_dim_ordering_tf_kernels_notop.h5\n",
      "58889256/58889256 [==============================] - 6s 0us/step\n"
     ]
    }
   ],
   "source": [
    "vgg = VGG16(input_shape=[256, 256] + [3], weights='imagenet', include_top=False)\n"
   ]
  },
  {
   "cell_type": "code",
   "execution_count": 6,
   "id": "973b3757",
   "metadata": {},
   "outputs": [
    {
     "data": {
      "text/plain": [
       "<KerasTensor: shape=(None, 256, 256, 3) dtype=float32 (created by layer 'input_2')>"
      ]
     },
     "execution_count": 6,
     "metadata": {},
     "output_type": "execute_result"
    }
   ],
   "source": [
    "vgg.input\n"
   ]
  },
  {
   "cell_type": "code",
   "execution_count": 7,
   "id": "0fff2e50",
   "metadata": {},
   "outputs": [],
   "source": [
    "for layer in vgg.layers:\n",
    "\tlayer.trainable = False"
   ]
  },
  {
   "cell_type": "code",
   "execution_count": 1,
   "id": "25297298",
   "metadata": {},
   "outputs": [],
   "source": [
    "from tensorflow.keras.models import Model"
   ]
  },
  {
   "cell_type": "code",
   "execution_count": 9,
   "id": "4b07867f",
   "metadata": {},
   "outputs": [
    {
     "name": "stdout",
     "output_type": "stream",
     "text": [
      "Model: \"model\"\n",
      "_________________________________________________________________\n",
      " Layer (type)                Output Shape              Param #   \n",
      "=================================================================\n",
      " input_2 (InputLayer)        [(None, 256, 256, 3)]     0         \n",
      "                                                                 \n",
      " block1_conv1 (Conv2D)       (None, 256, 256, 64)      1792      \n",
      "                                                                 \n",
      " block1_conv2 (Conv2D)       (None, 256, 256, 64)      36928     \n",
      "                                                                 \n",
      " block1_pool (MaxPooling2D)  (None, 128, 128, 64)      0         \n",
      "                                                                 \n",
      " block2_conv1 (Conv2D)       (None, 128, 128, 128)     73856     \n",
      "                                                                 \n",
      " block2_conv2 (Conv2D)       (None, 128, 128, 128)     147584    \n",
      "                                                                 \n",
      " block2_pool (MaxPooling2D)  (None, 64, 64, 128)       0         \n",
      "                                                                 \n",
      " block3_conv1 (Conv2D)       (None, 64, 64, 256)       295168    \n",
      "                                                                 \n",
      " block3_conv2 (Conv2D)       (None, 64, 64, 256)       590080    \n",
      "                                                                 \n",
      " block3_conv3 (Conv2D)       (None, 64, 64, 256)       590080    \n",
      "                                                                 \n",
      " block3_pool (MaxPooling2D)  (None, 32, 32, 256)       0         \n",
      "                                                                 \n",
      " block4_conv1 (Conv2D)       (None, 32, 32, 512)       1180160   \n",
      "                                                                 \n",
      " block4_conv2 (Conv2D)       (None, 32, 32, 512)       2359808   \n",
      "                                                                 \n",
      " block4_conv3 (Conv2D)       (None, 32, 32, 512)       2359808   \n",
      "                                                                 \n",
      " block4_pool (MaxPooling2D)  (None, 16, 16, 512)       0         \n",
      "                                                                 \n",
      " block5_conv1 (Conv2D)       (None, 16, 16, 512)       2359808   \n",
      "                                                                 \n",
      " block5_conv2 (Conv2D)       (None, 16, 16, 512)       2359808   \n",
      "                                                                 \n",
      " block5_conv3 (Conv2D)       (None, 16, 16, 512)       2359808   \n",
      "                                                                 \n",
      " block5_pool (MaxPooling2D)  (None, 8, 8, 512)         0         \n",
      "                                                                 \n",
      " flatten (Flatten)           (None, 32768)             0         \n",
      "                                                                 \n",
      " dense (Dense)               (None, 6)                 196614    \n",
      "                                                                 \n",
      "=================================================================\n",
      "Total params: 14911302 (56.88 MB)\n",
      "Trainable params: 196614 (768.02 KB)\n",
      "Non-trainable params: 14714688 (56.13 MB)\n",
      "_________________________________________________________________\n"
     ]
    }
   ],
   "source": [
    "x = Flatten()(vgg.output)\n",
    "prediction = Dense(6, activation='softmax')(x)\n",
    "model = Model(inputs=vgg.input, outputs=prediction)\n",
    "model.summary()"
   ]
  },
  {
   "cell_type": "code",
   "execution_count": 1,
   "id": "08f364c1",
   "metadata": {},
   "outputs": [],
   "source": [
    "import tensorflow as tf\n",
    "from configs.CFG import CFG\n",
    "from model.my_CNN_model import My_CNN_model\n",
    "from dataloader.dataloader import DataLoader\n",
    "import numpy as np\n",
    "from PIL import Image\n",
    "model = My_CNN_model(CFG)\n",
    "model.build()"
   ]
  },
  {
   "cell_type": "code",
   "execution_count": 2,
   "id": "daf8de10",
   "metadata": {},
   "outputs": [],
   "source": []
  },
  {
   "cell_type": "code",
   "execution_count": 3,
   "id": "8c40c966",
   "metadata": {},
   "outputs": [
    {
     "name": "stdout",
     "output_type": "stream",
     "text": [
      "Found 7221 files belonging to 8 classes.\n",
      "Using 5777 files for training.\n",
      "Using 1444 files for validation.\n"
     ]
    }
   ],
   "source": [
    "model.load_data()"
   ]
  },
  {
   "cell_type": "code",
   "execution_count": 3,
   "id": "e575fd24",
   "metadata": {},
   "outputs": [],
   "source": [
    "\n"
   ]
  },
  {
   "cell_type": "code",
   "execution_count": 5,
   "id": "c78ddbb0",
   "metadata": {},
   "outputs": [],
   "source": []
  },
  {
   "cell_type": "code",
   "execution_count": 6,
   "id": "c252e803",
   "metadata": {},
   "outputs": [
    {
     "name": "stdout",
     "output_type": "stream",
     "text": [
      "1/1 [==============================] - 0s 255ms/step\n"
     ]
    }
   ],
   "source": [
    "\n"
   ]
  },
  {
   "cell_type": "code",
   "execution_count": 8,
   "id": "4c0f31ab",
   "metadata": {},
   "outputs": [
    {
     "data": {
      "text/plain": [
       "'Grape_Esca'"
      ]
     },
     "execution_count": 8,
     "metadata": {},
     "output_type": "execute_result"
    }
   ],
   "source": []
  },
  {
   "cell_type": "code",
   "execution_count": 5,
   "id": "f5543a28",
   "metadata": {},
   "outputs": [
    {
     "name": "stdout",
     "output_type": "stream",
     "text": [
      "Epoch 1/15\n",
      " 30/181 [===>..........................] - ETA: 9:23 - loss: 9.6115 - accuracy: 0.3302"
     ]
    },
    {
     "ename": "KeyboardInterrupt",
     "evalue": "",
     "output_type": "error",
     "traceback": [
      "\u001b[0;31m---------------------------------------------------------------------------\u001b[0m",
      "\u001b[0;31mKeyboardInterrupt\u001b[0m                         Traceback (most recent call last)",
      "Cell \u001b[0;32mIn[5], line 1\u001b[0m\n\u001b[0;32m----> 1\u001b[0m \u001b[43mmodel\u001b[49m\u001b[38;5;241;43m.\u001b[39;49m\u001b[43mtrain\u001b[49m\u001b[43m(\u001b[49m\u001b[43m)\u001b[49m\n",
      "File \u001b[0;32m~/Documents/Leaf_propre/model/my_CNN_model.py:65\u001b[0m, in \u001b[0;36mMy_CNN_model.train\u001b[0;34m(self)\u001b[0m\n\u001b[1;32m     63\u001b[0m save_callback \u001b[38;5;241m=\u001b[39m SaveModelCallback(filepath\u001b[38;5;241m=\u001b[39m\u001b[38;5;28mself\u001b[39m\u001b[38;5;241m.\u001b[39msave_name)\n\u001b[1;32m     64\u001b[0m early_stopping \u001b[38;5;241m=\u001b[39m EarlyStopping(monitor\u001b[38;5;241m=\u001b[39m\u001b[38;5;124m'\u001b[39m\u001b[38;5;124mval_loss\u001b[39m\u001b[38;5;124m'\u001b[39m, patience\u001b[38;5;241m=\u001b[39m\u001b[38;5;241m5\u001b[39m, restore_best_weights\u001b[38;5;241m=\u001b[39m\u001b[38;5;28;01mTrue\u001b[39;00m)\n\u001b[0;32m---> 65\u001b[0m model_history \u001b[38;5;241m=\u001b[39m \u001b[38;5;28;43mself\u001b[39;49m\u001b[38;5;241;43m.\u001b[39;49m\u001b[43mmodel\u001b[49m\u001b[38;5;241;43m.\u001b[39;49m\u001b[43mfit\u001b[49m\u001b[43m(\u001b[49m\u001b[38;5;28;43mself\u001b[39;49m\u001b[38;5;241;43m.\u001b[39;49m\u001b[43mtrain_dataset\u001b[49m\u001b[43m,\u001b[49m\n\u001b[1;32m     66\u001b[0m \u001b[43m                               \u001b[49m\u001b[43mepochs\u001b[49m\u001b[38;5;241;43m=\u001b[39;49m\u001b[38;5;28;43mself\u001b[39;49m\u001b[38;5;241;43m.\u001b[39;49m\u001b[43mepoches\u001b[49m\u001b[43m,\u001b[49m\n\u001b[1;32m     67\u001b[0m \u001b[43m                               \u001b[49m\u001b[43mvalidation_data\u001b[49m\u001b[38;5;241;43m=\u001b[39;49m\u001b[38;5;28;43mself\u001b[39;49m\u001b[38;5;241;43m.\u001b[39;49m\u001b[43mval_dataset\u001b[49m\u001b[43m,\u001b[49m\n\u001b[1;32m     68\u001b[0m \u001b[43m                               \u001b[49m\u001b[43mverbose\u001b[49m\u001b[38;5;241;43m=\u001b[39;49m\u001b[38;5;241;43m1\u001b[39;49m\u001b[43m,\u001b[49m\n\u001b[1;32m     69\u001b[0m \u001b[43m                               \u001b[49m\u001b[43mcallbacks\u001b[49m\u001b[38;5;241;43m=\u001b[39;49m\u001b[43m[\u001b[49m\u001b[43msave_callback\u001b[49m\u001b[43m,\u001b[49m\u001b[43m \u001b[49m\u001b[43mearly_stopping\u001b[49m\u001b[43m]\u001b[49m\u001b[43m)\u001b[49m\n\u001b[1;32m     70\u001b[0m \u001b[38;5;28;01mreturn\u001b[39;00m model_history\u001b[38;5;241m.\u001b[39mhistory[\u001b[38;5;124m'\u001b[39m\u001b[38;5;124mloss\u001b[39m\u001b[38;5;124m'\u001b[39m], model_history\u001b[38;5;241m.\u001b[39mhistory[\u001b[38;5;124m'\u001b[39m\u001b[38;5;124mval_loss\u001b[39m\u001b[38;5;124m'\u001b[39m]\n",
      "File \u001b[0;32m/Library/Frameworks/Python.framework/Versions/3.11/lib/python3.11/site-packages/keras/src/utils/traceback_utils.py:65\u001b[0m, in \u001b[0;36mfilter_traceback.<locals>.error_handler\u001b[0;34m(*args, **kwargs)\u001b[0m\n\u001b[1;32m     63\u001b[0m filtered_tb \u001b[38;5;241m=\u001b[39m \u001b[38;5;28;01mNone\u001b[39;00m\n\u001b[1;32m     64\u001b[0m \u001b[38;5;28;01mtry\u001b[39;00m:\n\u001b[0;32m---> 65\u001b[0m     \u001b[38;5;28;01mreturn\u001b[39;00m \u001b[43mfn\u001b[49m\u001b[43m(\u001b[49m\u001b[38;5;241;43m*\u001b[39;49m\u001b[43margs\u001b[49m\u001b[43m,\u001b[49m\u001b[43m \u001b[49m\u001b[38;5;241;43m*\u001b[39;49m\u001b[38;5;241;43m*\u001b[39;49m\u001b[43mkwargs\u001b[49m\u001b[43m)\u001b[49m\n\u001b[1;32m     66\u001b[0m \u001b[38;5;28;01mexcept\u001b[39;00m \u001b[38;5;167;01mException\u001b[39;00m \u001b[38;5;28;01mas\u001b[39;00m e:\n\u001b[1;32m     67\u001b[0m     filtered_tb \u001b[38;5;241m=\u001b[39m _process_traceback_frames(e\u001b[38;5;241m.\u001b[39m__traceback__)\n",
      "File \u001b[0;32m/Library/Frameworks/Python.framework/Versions/3.11/lib/python3.11/site-packages/keras/src/engine/training.py:1807\u001b[0m, in \u001b[0;36mModel.fit\u001b[0;34m(self, x, y, batch_size, epochs, verbose, callbacks, validation_split, validation_data, shuffle, class_weight, sample_weight, initial_epoch, steps_per_epoch, validation_steps, validation_batch_size, validation_freq, max_queue_size, workers, use_multiprocessing)\u001b[0m\n\u001b[1;32m   1799\u001b[0m \u001b[38;5;28;01mwith\u001b[39;00m tf\u001b[38;5;241m.\u001b[39mprofiler\u001b[38;5;241m.\u001b[39mexperimental\u001b[38;5;241m.\u001b[39mTrace(\n\u001b[1;32m   1800\u001b[0m     \u001b[38;5;124m\"\u001b[39m\u001b[38;5;124mtrain\u001b[39m\u001b[38;5;124m\"\u001b[39m,\n\u001b[1;32m   1801\u001b[0m     epoch_num\u001b[38;5;241m=\u001b[39mepoch,\n\u001b[0;32m   (...)\u001b[0m\n\u001b[1;32m   1804\u001b[0m     _r\u001b[38;5;241m=\u001b[39m\u001b[38;5;241m1\u001b[39m,\n\u001b[1;32m   1805\u001b[0m ):\n\u001b[1;32m   1806\u001b[0m     callbacks\u001b[38;5;241m.\u001b[39mon_train_batch_begin(step)\n\u001b[0;32m-> 1807\u001b[0m     tmp_logs \u001b[38;5;241m=\u001b[39m \u001b[38;5;28;43mself\u001b[39;49m\u001b[38;5;241;43m.\u001b[39;49m\u001b[43mtrain_function\u001b[49m\u001b[43m(\u001b[49m\u001b[43miterator\u001b[49m\u001b[43m)\u001b[49m\n\u001b[1;32m   1808\u001b[0m     \u001b[38;5;28;01mif\u001b[39;00m data_handler\u001b[38;5;241m.\u001b[39mshould_sync:\n\u001b[1;32m   1809\u001b[0m         context\u001b[38;5;241m.\u001b[39masync_wait()\n",
      "File \u001b[0;32m/Library/Frameworks/Python.framework/Versions/3.11/lib/python3.11/site-packages/tensorflow/python/util/traceback_utils.py:150\u001b[0m, in \u001b[0;36mfilter_traceback.<locals>.error_handler\u001b[0;34m(*args, **kwargs)\u001b[0m\n\u001b[1;32m    148\u001b[0m filtered_tb \u001b[38;5;241m=\u001b[39m \u001b[38;5;28;01mNone\u001b[39;00m\n\u001b[1;32m    149\u001b[0m \u001b[38;5;28;01mtry\u001b[39;00m:\n\u001b[0;32m--> 150\u001b[0m   \u001b[38;5;28;01mreturn\u001b[39;00m \u001b[43mfn\u001b[49m\u001b[43m(\u001b[49m\u001b[38;5;241;43m*\u001b[39;49m\u001b[43margs\u001b[49m\u001b[43m,\u001b[49m\u001b[43m \u001b[49m\u001b[38;5;241;43m*\u001b[39;49m\u001b[38;5;241;43m*\u001b[39;49m\u001b[43mkwargs\u001b[49m\u001b[43m)\u001b[49m\n\u001b[1;32m    151\u001b[0m \u001b[38;5;28;01mexcept\u001b[39;00m \u001b[38;5;167;01mException\u001b[39;00m \u001b[38;5;28;01mas\u001b[39;00m e:\n\u001b[1;32m    152\u001b[0m   filtered_tb \u001b[38;5;241m=\u001b[39m _process_traceback_frames(e\u001b[38;5;241m.\u001b[39m__traceback__)\n",
      "File \u001b[0;32m/Library/Frameworks/Python.framework/Versions/3.11/lib/python3.11/site-packages/tensorflow/python/eager/polymorphic_function/polymorphic_function.py:832\u001b[0m, in \u001b[0;36mFunction.__call__\u001b[0;34m(self, *args, **kwds)\u001b[0m\n\u001b[1;32m    829\u001b[0m compiler \u001b[38;5;241m=\u001b[39m \u001b[38;5;124m\"\u001b[39m\u001b[38;5;124mxla\u001b[39m\u001b[38;5;124m\"\u001b[39m \u001b[38;5;28;01mif\u001b[39;00m \u001b[38;5;28mself\u001b[39m\u001b[38;5;241m.\u001b[39m_jit_compile \u001b[38;5;28;01melse\u001b[39;00m \u001b[38;5;124m\"\u001b[39m\u001b[38;5;124mnonXla\u001b[39m\u001b[38;5;124m\"\u001b[39m\n\u001b[1;32m    831\u001b[0m \u001b[38;5;28;01mwith\u001b[39;00m OptionalXlaContext(\u001b[38;5;28mself\u001b[39m\u001b[38;5;241m.\u001b[39m_jit_compile):\n\u001b[0;32m--> 832\u001b[0m   result \u001b[38;5;241m=\u001b[39m \u001b[38;5;28;43mself\u001b[39;49m\u001b[38;5;241;43m.\u001b[39;49m\u001b[43m_call\u001b[49m\u001b[43m(\u001b[49m\u001b[38;5;241;43m*\u001b[39;49m\u001b[43margs\u001b[49m\u001b[43m,\u001b[49m\u001b[43m \u001b[49m\u001b[38;5;241;43m*\u001b[39;49m\u001b[38;5;241;43m*\u001b[39;49m\u001b[43mkwds\u001b[49m\u001b[43m)\u001b[49m\n\u001b[1;32m    834\u001b[0m new_tracing_count \u001b[38;5;241m=\u001b[39m \u001b[38;5;28mself\u001b[39m\u001b[38;5;241m.\u001b[39mexperimental_get_tracing_count()\n\u001b[1;32m    835\u001b[0m without_tracing \u001b[38;5;241m=\u001b[39m (tracing_count \u001b[38;5;241m==\u001b[39m new_tracing_count)\n",
      "File \u001b[0;32m/Library/Frameworks/Python.framework/Versions/3.11/lib/python3.11/site-packages/tensorflow/python/eager/polymorphic_function/polymorphic_function.py:868\u001b[0m, in \u001b[0;36mFunction._call\u001b[0;34m(self, *args, **kwds)\u001b[0m\n\u001b[1;32m    865\u001b[0m   \u001b[38;5;28mself\u001b[39m\u001b[38;5;241m.\u001b[39m_lock\u001b[38;5;241m.\u001b[39mrelease()\n\u001b[1;32m    866\u001b[0m   \u001b[38;5;66;03m# In this case we have created variables on the first call, so we run the\u001b[39;00m\n\u001b[1;32m    867\u001b[0m   \u001b[38;5;66;03m# defunned version which is guaranteed to never create variables.\u001b[39;00m\n\u001b[0;32m--> 868\u001b[0m   \u001b[38;5;28;01mreturn\u001b[39;00m \u001b[43mtracing_compilation\u001b[49m\u001b[38;5;241;43m.\u001b[39;49m\u001b[43mcall_function\u001b[49m\u001b[43m(\u001b[49m\n\u001b[1;32m    869\u001b[0m \u001b[43m      \u001b[49m\u001b[43margs\u001b[49m\u001b[43m,\u001b[49m\u001b[43m \u001b[49m\u001b[43mkwds\u001b[49m\u001b[43m,\u001b[49m\u001b[43m \u001b[49m\u001b[38;5;28;43mself\u001b[39;49m\u001b[38;5;241;43m.\u001b[39;49m\u001b[43m_no_variable_creation_config\u001b[49m\n\u001b[1;32m    870\u001b[0m \u001b[43m  \u001b[49m\u001b[43m)\u001b[49m\n\u001b[1;32m    871\u001b[0m \u001b[38;5;28;01melif\u001b[39;00m \u001b[38;5;28mself\u001b[39m\u001b[38;5;241m.\u001b[39m_variable_creation_config \u001b[38;5;129;01mis\u001b[39;00m \u001b[38;5;129;01mnot\u001b[39;00m \u001b[38;5;28;01mNone\u001b[39;00m:\n\u001b[1;32m    872\u001b[0m   \u001b[38;5;66;03m# Release the lock early so that multiple threads can perform the call\u001b[39;00m\n\u001b[1;32m    873\u001b[0m   \u001b[38;5;66;03m# in parallel.\u001b[39;00m\n\u001b[1;32m    874\u001b[0m   \u001b[38;5;28mself\u001b[39m\u001b[38;5;241m.\u001b[39m_lock\u001b[38;5;241m.\u001b[39mrelease()\n",
      "File \u001b[0;32m/Library/Frameworks/Python.framework/Versions/3.11/lib/python3.11/site-packages/tensorflow/python/eager/polymorphic_function/tracing_compilation.py:139\u001b[0m, in \u001b[0;36mcall_function\u001b[0;34m(args, kwargs, tracing_options)\u001b[0m\n\u001b[1;32m    137\u001b[0m bound_args \u001b[38;5;241m=\u001b[39m function\u001b[38;5;241m.\u001b[39mfunction_type\u001b[38;5;241m.\u001b[39mbind(\u001b[38;5;241m*\u001b[39margs, \u001b[38;5;241m*\u001b[39m\u001b[38;5;241m*\u001b[39mkwargs)\n\u001b[1;32m    138\u001b[0m flat_inputs \u001b[38;5;241m=\u001b[39m function\u001b[38;5;241m.\u001b[39mfunction_type\u001b[38;5;241m.\u001b[39munpack_inputs(bound_args)\n\u001b[0;32m--> 139\u001b[0m \u001b[38;5;28;01mreturn\u001b[39;00m \u001b[43mfunction\u001b[49m\u001b[38;5;241;43m.\u001b[39;49m\u001b[43m_call_flat\u001b[49m\u001b[43m(\u001b[49m\u001b[43m  \u001b[49m\u001b[38;5;66;43;03m# pylint: disable=protected-access\u001b[39;49;00m\n\u001b[1;32m    140\u001b[0m \u001b[43m    \u001b[49m\u001b[43mflat_inputs\u001b[49m\u001b[43m,\u001b[49m\u001b[43m \u001b[49m\u001b[43mcaptured_inputs\u001b[49m\u001b[38;5;241;43m=\u001b[39;49m\u001b[43mfunction\u001b[49m\u001b[38;5;241;43m.\u001b[39;49m\u001b[43mcaptured_inputs\u001b[49m\n\u001b[1;32m    141\u001b[0m \u001b[43m\u001b[49m\u001b[43m)\u001b[49m\n",
      "File \u001b[0;32m/Library/Frameworks/Python.framework/Versions/3.11/lib/python3.11/site-packages/tensorflow/python/eager/polymorphic_function/concrete_function.py:1323\u001b[0m, in \u001b[0;36mConcreteFunction._call_flat\u001b[0;34m(self, tensor_inputs, captured_inputs)\u001b[0m\n\u001b[1;32m   1319\u001b[0m possible_gradient_type \u001b[38;5;241m=\u001b[39m gradients_util\u001b[38;5;241m.\u001b[39mPossibleTapeGradientTypes(args)\n\u001b[1;32m   1320\u001b[0m \u001b[38;5;28;01mif\u001b[39;00m (possible_gradient_type \u001b[38;5;241m==\u001b[39m gradients_util\u001b[38;5;241m.\u001b[39mPOSSIBLE_GRADIENT_TYPES_NONE\n\u001b[1;32m   1321\u001b[0m     \u001b[38;5;129;01mand\u001b[39;00m executing_eagerly):\n\u001b[1;32m   1322\u001b[0m   \u001b[38;5;66;03m# No tape is watching; skip to running the function.\u001b[39;00m\n\u001b[0;32m-> 1323\u001b[0m   \u001b[38;5;28;01mreturn\u001b[39;00m \u001b[38;5;28;43mself\u001b[39;49m\u001b[38;5;241;43m.\u001b[39;49m\u001b[43m_inference_function\u001b[49m\u001b[38;5;241;43m.\u001b[39;49m\u001b[43mcall_preflattened\u001b[49m\u001b[43m(\u001b[49m\u001b[43margs\u001b[49m\u001b[43m)\u001b[49m\n\u001b[1;32m   1324\u001b[0m forward_backward \u001b[38;5;241m=\u001b[39m \u001b[38;5;28mself\u001b[39m\u001b[38;5;241m.\u001b[39m_select_forward_and_backward_functions(\n\u001b[1;32m   1325\u001b[0m     args,\n\u001b[1;32m   1326\u001b[0m     possible_gradient_type,\n\u001b[1;32m   1327\u001b[0m     executing_eagerly)\n\u001b[1;32m   1328\u001b[0m forward_function, args_with_tangents \u001b[38;5;241m=\u001b[39m forward_backward\u001b[38;5;241m.\u001b[39mforward()\n",
      "File \u001b[0;32m/Library/Frameworks/Python.framework/Versions/3.11/lib/python3.11/site-packages/tensorflow/python/eager/polymorphic_function/atomic_function.py:216\u001b[0m, in \u001b[0;36mAtomicFunction.call_preflattened\u001b[0;34m(self, args)\u001b[0m\n\u001b[1;32m    214\u001b[0m \u001b[38;5;28;01mdef\u001b[39;00m \u001b[38;5;21mcall_preflattened\u001b[39m(\u001b[38;5;28mself\u001b[39m, args: Sequence[core\u001b[38;5;241m.\u001b[39mTensor]) \u001b[38;5;241m-\u001b[39m\u001b[38;5;241m>\u001b[39m Any:\n\u001b[1;32m    215\u001b[0m \u001b[38;5;250m  \u001b[39m\u001b[38;5;124;03m\"\"\"Calls with flattened tensor inputs and returns the structured output.\"\"\"\u001b[39;00m\n\u001b[0;32m--> 216\u001b[0m   flat_outputs \u001b[38;5;241m=\u001b[39m \u001b[38;5;28;43mself\u001b[39;49m\u001b[38;5;241;43m.\u001b[39;49m\u001b[43mcall_flat\u001b[49m\u001b[43m(\u001b[49m\u001b[38;5;241;43m*\u001b[39;49m\u001b[43margs\u001b[49m\u001b[43m)\u001b[49m\n\u001b[1;32m    217\u001b[0m   \u001b[38;5;28;01mreturn\u001b[39;00m \u001b[38;5;28mself\u001b[39m\u001b[38;5;241m.\u001b[39mfunction_type\u001b[38;5;241m.\u001b[39mpack_output(flat_outputs)\n",
      "File \u001b[0;32m/Library/Frameworks/Python.framework/Versions/3.11/lib/python3.11/site-packages/tensorflow/python/eager/polymorphic_function/atomic_function.py:251\u001b[0m, in \u001b[0;36mAtomicFunction.call_flat\u001b[0;34m(self, *args)\u001b[0m\n\u001b[1;32m    249\u001b[0m \u001b[38;5;28;01mwith\u001b[39;00m record\u001b[38;5;241m.\u001b[39mstop_recording():\n\u001b[1;32m    250\u001b[0m   \u001b[38;5;28;01mif\u001b[39;00m \u001b[38;5;28mself\u001b[39m\u001b[38;5;241m.\u001b[39m_bound_context\u001b[38;5;241m.\u001b[39mexecuting_eagerly():\n\u001b[0;32m--> 251\u001b[0m     outputs \u001b[38;5;241m=\u001b[39m \u001b[38;5;28;43mself\u001b[39;49m\u001b[38;5;241;43m.\u001b[39;49m\u001b[43m_bound_context\u001b[49m\u001b[38;5;241;43m.\u001b[39;49m\u001b[43mcall_function\u001b[49m\u001b[43m(\u001b[49m\n\u001b[1;32m    252\u001b[0m \u001b[43m        \u001b[49m\u001b[38;5;28;43mself\u001b[39;49m\u001b[38;5;241;43m.\u001b[39;49m\u001b[43mname\u001b[49m\u001b[43m,\u001b[49m\n\u001b[1;32m    253\u001b[0m \u001b[43m        \u001b[49m\u001b[38;5;28;43mlist\u001b[39;49m\u001b[43m(\u001b[49m\u001b[43margs\u001b[49m\u001b[43m)\u001b[49m\u001b[43m,\u001b[49m\n\u001b[1;32m    254\u001b[0m \u001b[43m        \u001b[49m\u001b[38;5;28;43mlen\u001b[39;49m\u001b[43m(\u001b[49m\u001b[38;5;28;43mself\u001b[39;49m\u001b[38;5;241;43m.\u001b[39;49m\u001b[43mfunction_type\u001b[49m\u001b[38;5;241;43m.\u001b[39;49m\u001b[43mflat_outputs\u001b[49m\u001b[43m)\u001b[49m\u001b[43m,\u001b[49m\n\u001b[1;32m    255\u001b[0m \u001b[43m    \u001b[49m\u001b[43m)\u001b[49m\n\u001b[1;32m    256\u001b[0m   \u001b[38;5;28;01melse\u001b[39;00m:\n\u001b[1;32m    257\u001b[0m     outputs \u001b[38;5;241m=\u001b[39m make_call_op_in_graph(\n\u001b[1;32m    258\u001b[0m         \u001b[38;5;28mself\u001b[39m,\n\u001b[1;32m    259\u001b[0m         \u001b[38;5;28mlist\u001b[39m(args),\n\u001b[1;32m    260\u001b[0m         \u001b[38;5;28mself\u001b[39m\u001b[38;5;241m.\u001b[39m_bound_context\u001b[38;5;241m.\u001b[39mfunction_call_options\u001b[38;5;241m.\u001b[39mas_attrs(),\n\u001b[1;32m    261\u001b[0m     )\n",
      "File \u001b[0;32m/Library/Frameworks/Python.framework/Versions/3.11/lib/python3.11/site-packages/tensorflow/python/eager/context.py:1486\u001b[0m, in \u001b[0;36mContext.call_function\u001b[0;34m(self, name, tensor_inputs, num_outputs)\u001b[0m\n\u001b[1;32m   1484\u001b[0m cancellation_context \u001b[38;5;241m=\u001b[39m cancellation\u001b[38;5;241m.\u001b[39mcontext()\n\u001b[1;32m   1485\u001b[0m \u001b[38;5;28;01mif\u001b[39;00m cancellation_context \u001b[38;5;129;01mis\u001b[39;00m \u001b[38;5;28;01mNone\u001b[39;00m:\n\u001b[0;32m-> 1486\u001b[0m   outputs \u001b[38;5;241m=\u001b[39m \u001b[43mexecute\u001b[49m\u001b[38;5;241;43m.\u001b[39;49m\u001b[43mexecute\u001b[49m\u001b[43m(\u001b[49m\n\u001b[1;32m   1487\u001b[0m \u001b[43m      \u001b[49m\u001b[43mname\u001b[49m\u001b[38;5;241;43m.\u001b[39;49m\u001b[43mdecode\u001b[49m\u001b[43m(\u001b[49m\u001b[38;5;124;43m\"\u001b[39;49m\u001b[38;5;124;43mutf-8\u001b[39;49m\u001b[38;5;124;43m\"\u001b[39;49m\u001b[43m)\u001b[49m\u001b[43m,\u001b[49m\n\u001b[1;32m   1488\u001b[0m \u001b[43m      \u001b[49m\u001b[43mnum_outputs\u001b[49m\u001b[38;5;241;43m=\u001b[39;49m\u001b[43mnum_outputs\u001b[49m\u001b[43m,\u001b[49m\n\u001b[1;32m   1489\u001b[0m \u001b[43m      \u001b[49m\u001b[43minputs\u001b[49m\u001b[38;5;241;43m=\u001b[39;49m\u001b[43mtensor_inputs\u001b[49m\u001b[43m,\u001b[49m\n\u001b[1;32m   1490\u001b[0m \u001b[43m      \u001b[49m\u001b[43mattrs\u001b[49m\u001b[38;5;241;43m=\u001b[39;49m\u001b[43mattrs\u001b[49m\u001b[43m,\u001b[49m\n\u001b[1;32m   1491\u001b[0m \u001b[43m      \u001b[49m\u001b[43mctx\u001b[49m\u001b[38;5;241;43m=\u001b[39;49m\u001b[38;5;28;43mself\u001b[39;49m\u001b[43m,\u001b[49m\n\u001b[1;32m   1492\u001b[0m \u001b[43m  \u001b[49m\u001b[43m)\u001b[49m\n\u001b[1;32m   1493\u001b[0m \u001b[38;5;28;01melse\u001b[39;00m:\n\u001b[1;32m   1494\u001b[0m   outputs \u001b[38;5;241m=\u001b[39m execute\u001b[38;5;241m.\u001b[39mexecute_with_cancellation(\n\u001b[1;32m   1495\u001b[0m       name\u001b[38;5;241m.\u001b[39mdecode(\u001b[38;5;124m\"\u001b[39m\u001b[38;5;124mutf-8\u001b[39m\u001b[38;5;124m\"\u001b[39m),\n\u001b[1;32m   1496\u001b[0m       num_outputs\u001b[38;5;241m=\u001b[39mnum_outputs,\n\u001b[0;32m   (...)\u001b[0m\n\u001b[1;32m   1500\u001b[0m       cancellation_manager\u001b[38;5;241m=\u001b[39mcancellation_context,\n\u001b[1;32m   1501\u001b[0m   )\n",
      "File \u001b[0;32m/Library/Frameworks/Python.framework/Versions/3.11/lib/python3.11/site-packages/tensorflow/python/eager/execute.py:53\u001b[0m, in \u001b[0;36mquick_execute\u001b[0;34m(op_name, num_outputs, inputs, attrs, ctx, name)\u001b[0m\n\u001b[1;32m     51\u001b[0m \u001b[38;5;28;01mtry\u001b[39;00m:\n\u001b[1;32m     52\u001b[0m   ctx\u001b[38;5;241m.\u001b[39mensure_initialized()\n\u001b[0;32m---> 53\u001b[0m   tensors \u001b[38;5;241m=\u001b[39m \u001b[43mpywrap_tfe\u001b[49m\u001b[38;5;241;43m.\u001b[39;49m\u001b[43mTFE_Py_Execute\u001b[49m\u001b[43m(\u001b[49m\u001b[43mctx\u001b[49m\u001b[38;5;241;43m.\u001b[39;49m\u001b[43m_handle\u001b[49m\u001b[43m,\u001b[49m\u001b[43m \u001b[49m\u001b[43mdevice_name\u001b[49m\u001b[43m,\u001b[49m\u001b[43m \u001b[49m\u001b[43mop_name\u001b[49m\u001b[43m,\u001b[49m\n\u001b[1;32m     54\u001b[0m \u001b[43m                                      \u001b[49m\u001b[43minputs\u001b[49m\u001b[43m,\u001b[49m\u001b[43m \u001b[49m\u001b[43mattrs\u001b[49m\u001b[43m,\u001b[49m\u001b[43m \u001b[49m\u001b[43mnum_outputs\u001b[49m\u001b[43m)\u001b[49m\n\u001b[1;32m     55\u001b[0m \u001b[38;5;28;01mexcept\u001b[39;00m core\u001b[38;5;241m.\u001b[39m_NotOkStatusException \u001b[38;5;28;01mas\u001b[39;00m e:\n\u001b[1;32m     56\u001b[0m   \u001b[38;5;28;01mif\u001b[39;00m name \u001b[38;5;129;01mis\u001b[39;00m \u001b[38;5;129;01mnot\u001b[39;00m \u001b[38;5;28;01mNone\u001b[39;00m:\n",
      "\u001b[0;31mKeyboardInterrupt\u001b[0m: "
     ]
    }
   ],
   "source": [
    "model.train()"
   ]
  },
  {
   "cell_type": "code",
   "execution_count": 30,
   "id": "ff431d35",
   "metadata": {},
   "outputs": [
    {
     "data": {
      "text/plain": [
       "[<keras.src.engine.input_layer.InputLayer at 0x2cc51ff10>,\n",
       " <keras.src.layers.convolutional.conv2d.Conv2D at 0x17135a690>,\n",
       " <keras.src.layers.convolutional.conv2d.Conv2D at 0x2cd742e50>,\n",
       " <keras.src.layers.pooling.max_pooling2d.MaxPooling2D at 0x171337a10>,\n",
       " <keras.src.layers.convolutional.conv2d.Conv2D at 0x2cd75c390>,\n",
       " <keras.src.layers.convolutional.conv2d.Conv2D at 0x17130d410>,\n",
       " <keras.src.layers.pooling.max_pooling2d.MaxPooling2D at 0x2cc4d5250>,\n",
       " <keras.src.layers.convolutional.conv2d.Conv2D at 0x2cd7c0690>,\n",
       " <keras.src.layers.convolutional.conv2d.Conv2D at 0x2cc500090>,\n",
       " <keras.src.layers.convolutional.conv2d.Conv2D at 0x2cd7bb690>,\n",
       " <keras.src.layers.pooling.max_pooling2d.MaxPooling2D at 0x2cd782b90>,\n",
       " <keras.src.layers.convolutional.conv2d.Conv2D at 0x2cd78b550>,\n",
       " <keras.src.layers.convolutional.conv2d.Conv2D at 0x2cc489910>,\n",
       " <keras.src.layers.convolutional.conv2d.Conv2D at 0x2cc4d4f10>,\n",
       " <keras.src.layers.pooling.max_pooling2d.MaxPooling2D at 0x2a79a6c10>,\n",
       " <keras.src.layers.convolutional.conv2d.Conv2D at 0x2cd7bb310>,\n",
       " <keras.src.layers.convolutional.conv2d.Conv2D at 0x2cd7887d0>,\n",
       " <keras.src.layers.convolutional.conv2d.Conv2D at 0x2cd784290>,\n",
       " <keras.src.layers.pooling.max_pooling2d.MaxPooling2D at 0x2cd7880d0>,\n",
       " <keras.src.layers.reshaping.flatten.Flatten at 0x17130f4d0>]"
      ]
     },
     "execution_count": 30,
     "metadata": {},
     "output_type": "execute_result"
    }
   ],
   "source": [
    "layers"
   ]
  },
  {
   "cell_type": "code",
   "execution_count": 23,
   "id": "40d27de0",
   "metadata": {},
   "outputs": [],
   "source": [
    "model.model"
   ]
  },
  {
   "cell_type": "code",
   "execution_count": 1,
   "id": "e3b59dbb",
   "metadata": {},
   "outputs": [
    {
     "data": {
      "text/plain": [
       "(1, 256, 256, 3)"
      ]
     },
     "execution_count": 1,
     "metadata": {},
     "output_type": "execute_result"
    }
   ],
   "source": [
    "tuple([1]+[256, 256, 3])"
   ]
  },
  {
   "cell_type": "code",
   "execution_count": 6,
   "id": "e8aeeaa4",
   "metadata": {},
   "outputs": [],
   "source": [
    "import matplotlib.pyplot as plt\n",
    "from matplotlib.gridspec import GridSpec\n",
    "import numpy as np\n",
    "from PIL import Image\n"
   ]
  },
  {
   "cell_type": "code",
   "execution_count": 7,
   "id": "ff94fa0f",
   "metadata": {},
   "outputs": [],
   "source": [
    "img = np.array(Image.open(\"img_for_test/Augmentation/img.JPG\", \"r\"))"
   ]
  },
  {
   "cell_type": "code",
   "execution_count": 8,
   "id": "2576db70",
   "metadata": {},
   "outputs": [
    {
     "data": {
      "text/plain": [
       "array([[[143, 136, 169],\n",
       "        [148, 141, 174],\n",
       "        [149, 142, 175],\n",
       "        ...,\n",
       "        [154, 144, 178],\n",
       "        [150, 140, 174],\n",
       "        [140, 130, 164]],\n",
       "\n",
       "       [[142, 135, 168],\n",
       "        [145, 138, 171],\n",
       "        [144, 137, 170],\n",
       "        ...,\n",
       "        [151, 141, 175],\n",
       "        [153, 143, 177],\n",
       "        [151, 141, 175]],\n",
       "\n",
       "       [[149, 142, 175],\n",
       "        [148, 141, 174],\n",
       "        [142, 135, 168],\n",
       "        ...,\n",
       "        [146, 136, 170],\n",
       "        [150, 140, 174],\n",
       "        [155, 145, 179]],\n",
       "\n",
       "       ...,\n",
       "\n",
       "       [[180, 176, 209],\n",
       "        [180, 176, 209],\n",
       "        [181, 177, 210],\n",
       "        ...,\n",
       "        [160, 153, 186],\n",
       "        [160, 153, 186],\n",
       "        [160, 153, 186]],\n",
       "\n",
       "       [[180, 176, 209],\n",
       "        [180, 176, 209],\n",
       "        [181, 177, 210],\n",
       "        ...,\n",
       "        [161, 154, 187],\n",
       "        [161, 154, 187],\n",
       "        [162, 155, 188]],\n",
       "\n",
       "       [[180, 176, 209],\n",
       "        [180, 176, 209],\n",
       "        [181, 177, 210],\n",
       "        ...,\n",
       "        [162, 155, 188],\n",
       "        [162, 155, 188],\n",
       "        [163, 156, 189]]], dtype=uint8)"
      ]
     },
     "execution_count": 8,
     "metadata": {},
     "output_type": "execute_result"
    }
   ],
   "source": [
    "img"
   ]
  },
  {
   "cell_type": "code",
   "execution_count": 37,
   "id": "1814260f",
   "metadata": {},
   "outputs": [
    {
     "data": {
      "image/png": "[encoded data removed]",
      "text/plain": [
       "<Figure size 640x480 with 2 Axes>"
      ]
     },
     "metadata": {},
     "output_type": "display_data"
    }
   ],
   "source": [
    "fig = plt.figure()\n",
    "fig.patch.set_facecolor('black')\n",
    "gs = GridSpec(nrows=2, ncols=1, height_ratios=[3, 1])\n",
    "ax0 = fig.add_subplot(gs[0])\n",
    "ax0.imshow(img, aspect='equal')  # Set aspect to 'equal' for square image\n",
    "ax0.axis('off')\n",
    "txt_part1 = \"===  Leaffliction classification  ===\"\n",
    "txt_part2 = \"Class predicted : \" + \"toto\"\n",
    "ax2 = fig.add_subplot(gs[1])\n",
    "ax2.set_facecolor('black')\n",
    "ax2.text(0.5, 0.7, txt_part1,\n",
    "         color='white', fontsize=25, ha='center', va='center')\n",
    "ax2.text(0.5, 0.4, txt_part2,\n",
    "         color='white', fontsize=14, ha='center', va='center')\n",
    "plt.subplots_adjust(left=0.02, right=0.98, top=0.98, wspace=0.05, hspace=0.2)\n",
    "manager = plt.get_current_fig_manager()\n",
    "manager.set_window_title(\"Leafflction prediction result\")\n",
    "plt.show()"
   ]
  },
  {
   "cell_type": "code",
   "execution_count": 8,
   "id": "24106292",
   "metadata": {},
   "outputs": [],
   "source": [
    "import os"
   ]
  },
  {
   "cell_type": "code",
   "execution_count": 57,
   "id": "3b1cca94",
   "metadata": {},
   "outputs": [
    {
     "name": "stdout",
     "output_type": "stream",
     "text": [
      "17\n",
      "['img_for_test/Distribution/test3/Apple_Black_rot/image (1).JPG', 'img_for_test/Distribution/test1/Grape_Esca/image (15).JPG', 'img_for_test/Distribution/test1/Grape_Esca/image (16).JPG', 'img_for_test/Distribution/test1/Grape_Esca/image (12).JPG', 'img_for_test/Distribution/test1/Grape_Esca/image (17).JPG', 'img_for_test/Distribution/test3/Apple_Black_rot/image (2).JPG', 'img_for_test/Distribution/test1/Apple_healthy/image (3).JPG', 'img_for_test/Distribution/test1/Grape_Esca/image (18).JPG', 'img_for_test/Distribution/test1/Apple_healthy/image (1).JPG', 'img_for_test/Distribution/test1/Apple_Black_rot/image (4).JPG', 'img_for_test/Distribution/test1/Apple_Black_rot/image (2).JPG', 'img_for_test/Distribution/test1/Apple_Black_rot/image (1).JPG', 'img_for_test/Distribution/test1/Grape_Esca/image (13).JPG', 'img_for_test/Distribution/test1/Apple_healthy/sub/image (4).JPG', 'img_for_test/Distribution/test1/Grape_Esca/image (14).JPG', 'img_for_test/Distribution/test1/Grape_Esca/image (19).JPG', 'img_for_test/Distribution/test1/Apple_healthy/image (2).JPG']\n",
      "17\n"
     ]
    }
   ],
   "source": [
    "imageDir =  \"img_for_test/Distribution\"\n",
    "file_list = []\n",
    "for folder in os.listdir(imageDir):\n",
    "    # if not os.path.isdir(os.path.join(imageDir, folder)):\n",
    "    #     continue\n",
    "    for foldername, subdirectorys, filenames in os.walk(os.path.join(imageDir, folder)):\n",
    "        filenames = [os.path.join(foldername, filename) for filename in filenames if filename.lower().endswith(('.png', '.jpg', '.jpeg'))]\n",
    "        file_list += filenames\n",
    "print(len(file_list))\n",
    "\n",
    "file_list = list(set(file_list))\n",
    "print(file_list) \n",
    "print(len(file_list))"
   ]
  },
  {
   "cell_type": "code",
   "execution_count": 56,
   "id": "9a588c55",
   "metadata": {},
   "outputs": [
    {
     "name": "stdout",
     "output_type": "stream",
     "text": [
      "17\n",
      "['img_for_test/Distribution/test3/Apple_Black_rot/image (1).JPG', 'img_for_test/Distribution/test1/Grape_Esca/image (15).JPG', 'img_for_test/Distribution/test1/Grape_Esca/image (16).JPG', 'img_for_test/Distribution/test1/Grape_Esca/image (12).JPG', 'img_for_test/Distribution/test1/Grape_Esca/image (17).JPG', 'img_for_test/Distribution/test3/Apple_Black_rot/image (2).JPG', 'img_for_test/Distribution/test1/Apple_healthy/image (3).JPG', 'img_for_test/Distribution/test1/Grape_Esca/image (18).JPG', 'img_for_test/Distribution/test1/Apple_healthy/image (1).JPG', 'img_for_test/Distribution/test1/Apple_Black_rot/image (4).JPG', 'img_for_test/Distribution/test1/Apple_Black_rot/image (2).JPG', 'img_for_test/Distribution/test1/Apple_Black_rot/image (1).JPG', 'img_for_test/Distribution/test1/Grape_Esca/image (13).JPG', 'img_for_test/Distribution/test1/Apple_healthy/sub/image (4).JPG', 'img_for_test/Distribution/test1/Grape_Esca/image (14).JPG', 'img_for_test/Distribution/test1/Grape_Esca/image (19).JPG', 'img_for_test/Distribution/test1/Apple_healthy/image (2).JPG']\n",
      "17\n"
     ]
    }
   ],
   "source": [
    "imageDir =  \"img_for_test/Distribution\"\n",
    "file_list = []\n",
    "\n",
    "for foldername, subdirectorys, filenames in os.walk(imageDir):\n",
    "    filenames = [os.path.join(foldername, filename) for filename in filenames if filename.lower().endswith(('.png', '.jpg', '.jpeg'))]\n",
    "    file_list += filenames\n",
    "print(len(file_list))\n",
    "file_list = list(set(file_list))\n",
    "print(file_list) \n",
    "print(len(file_list))"
   ]
  },
  {
   "cell_type": "code",
   "execution_count": 58,
   "id": "fed4afd1",
   "metadata": {},
   "outputs": [],
   "source": [
    "for elem in file_list:\n",
    "    if not os.path.isfile(elem):\n",
    "        print(\"NO\")"
   ]
  },
  {
   "cell_type": "code",
   "execution_count": 59,
   "id": "1eee8889",
   "metadata": {},
   "outputs": [
    {
     "data": {
      "text/plain": [
       "['img_for_test/Distribution/test3/Apple_Black_rot/image (1).JPG',\n",
       " 'img_for_test/Distribution/test1/Grape_Esca/image (15).JPG',\n",
       " 'img_for_test/Distribution/test1/Grape_Esca/image (16).JPG',\n",
       " 'img_for_test/Distribution/test1/Grape_Esca/image (12).JPG',\n",
       " 'img_for_test/Distribution/test1/Grape_Esca/image (17).JPG',\n",
       " 'img_for_test/Distribution/test3/Apple_Black_rot/image (2).JPG',\n",
       " 'img_for_test/Distribution/test1/Apple_healthy/image (3).JPG',\n",
       " 'img_for_test/Distribution/test1/Grape_Esca/image (18).JPG',\n",
       " 'img_for_test/Distribution/test1/Apple_healthy/image (1).JPG',\n",
       " 'img_for_test/Distribution/test1/Apple_Black_rot/image (4).JPG',\n",
       " 'img_for_test/Distribution/test1/Apple_Black_rot/image (2).JPG',\n",
       " 'img_for_test/Distribution/test1/Apple_Black_rot/image (1).JPG',\n",
       " 'img_for_test/Distribution/test1/Grape_Esca/image (13).JPG',\n",
       " 'img_for_test/Distribution/test1/Apple_healthy/sub/image (4).JPG',\n",
       " 'img_for_test/Distribution/test1/Grape_Esca/image (14).JPG',\n",
       " 'img_for_test/Distribution/test1/Grape_Esca/image (19).JPG',\n",
       " 'img_for_test/Distribution/test1/Apple_healthy/image (2).JPG']"
      ]
     },
     "execution_count": 59,
     "metadata": {},
     "output_type": "execute_result"
    }
   ],
   "source": [
    "file_list"
   ]
  },
  {
   "cell_type": "code",
   "execution_count": 63,
   "id": "19155db2",
   "metadata": {},
   "outputs": [
    {
     "data": {
      "text/plain": [
       "True"
      ]
     },
     "execution_count": 63,
     "metadata": {},
     "output_type": "execute_result"
    }
   ],
   "source": [
    "np.array([type(file) == str for file in file_list]).all()"
   ]
  },
  {
   "cell_type": "code",
   "execution_count": 64,
   "id": "f370e468",
   "metadata": {},
   "outputs": [],
   "source": [
    "import random"
   ]
  },
  {
   "cell_type": "code",
   "execution_count": 73,
   "id": "15d39ee7",
   "metadata": {},
   "outputs": [],
   "source": [
    "image = Image.new('RGB', (256, 256), (random.randint(0, 255), random.randint(0, 255), random.randint(0, 255)))\n"
   ]
  },
  {
   "cell_type": "code",
   "execution_count": 74,
   "id": "7e200ae7",
   "metadata": {},
   "outputs": [
    {
     "data": {
      "image/jpeg": "[encoded data removed]",
      "image/png": "[encoded data removed]",
      "text/plain": [
       "<PIL.Image.Image image mode=RGB size=256x256>"
      ]
     },
     "execution_count": 74,
     "metadata": {},
     "output_type": "execute_result"
    }
   ],
   "source": [
    "image"
   ]
  },
  {
   "cell_type": "code",
   "execution_count": 79,
   "id": "cde7bcd8",
   "metadata": {},
   "outputs": [
    {
     "data": {
      "text/plain": [
       "<tf.Tensor: shape=(256, 256, 3), dtype=float32, numpy=\n",
       "array([[[0.49019608, 0.18431373, 0.76862746],\n",
       "        [0.49019608, 0.18431373, 0.76862746],\n",
       "        [0.49019608, 0.18431373, 0.76862746],\n",
       "        ...,\n",
       "        [0.49019608, 0.18431373, 0.76862746],\n",
       "        [0.49019608, 0.18431373, 0.76862746],\n",
       "        [0.49019608, 0.18431373, 0.76862746]],\n",
       "\n",
       "       [[0.49019608, 0.18431373, 0.76862746],\n",
       "        [0.49019608, 0.18431373, 0.76862746],\n",
       "        [0.49019608, 0.18431373, 0.76862746],\n",
       "        ...,\n",
       "        [0.49019608, 0.18431373, 0.76862746],\n",
       "        [0.49019608, 0.18431373, 0.76862746],\n",
       "        [0.49019608, 0.18431373, 0.76862746]],\n",
       "\n",
       "       [[0.49019608, 0.18431373, 0.76862746],\n",
       "        [0.49019608, 0.18431373, 0.76862746],\n",
       "        [0.49019608, 0.18431373, 0.76862746],\n",
       "        ...,\n",
       "        [0.49019608, 0.18431373, 0.76862746],\n",
       "        [0.49019608, 0.18431373, 0.76862746],\n",
       "        [0.49019608, 0.18431373, 0.76862746]],\n",
       "\n",
       "       ...,\n",
       "\n",
       "       [[0.49019608, 0.18431373, 0.76862746],\n",
       "        [0.49019608, 0.18431373, 0.76862746],\n",
       "        [0.49019608, 0.18431373, 0.76862746],\n",
       "        ...,\n",
       "        [0.49019608, 0.18431373, 0.76862746],\n",
       "        [0.49019608, 0.18431373, 0.76862746],\n",
       "        [0.49019608, 0.18431373, 0.76862746]],\n",
       "\n",
       "       [[0.49019608, 0.18431373, 0.76862746],\n",
       "        [0.49019608, 0.18431373, 0.76862746],\n",
       "        [0.49019608, 0.18431373, 0.76862746],\n",
       "        ...,\n",
       "        [0.49019608, 0.18431373, 0.76862746],\n",
       "        [0.49019608, 0.18431373, 0.76862746],\n",
       "        [0.49019608, 0.18431373, 0.76862746]],\n",
       "\n",
       "       [[0.49019608, 0.18431373, 0.76862746],\n",
       "        [0.49019608, 0.18431373, 0.76862746],\n",
       "        [0.49019608, 0.18431373, 0.76862746],\n",
       "        ...,\n",
       "        [0.49019608, 0.18431373, 0.76862746],\n",
       "        [0.49019608, 0.18431373, 0.76862746],\n",
       "        [0.49019608, 0.18431373, 0.76862746]]], dtype=float32)>"
      ]
     },
     "execution_count": 79,
     "metadata": {},
     "output_type": "execute_result"
    }
   ],
   "source": [
    "\n",
    "img_norm, _ = model._normalize(image, 0)\n",
    "img_norm"
   ]
  },
  {
   "cell_type": "code",
   "execution_count": 81,
   "id": "f0508b91",
   "metadata": {},
   "outputs": [],
   "source": [
    "img_reshaped = tf.reshape(img_norm,tuple([1]+model.config.model.input_shape))"
   ]
  },
  {
   "cell_type": "code",
   "execution_count": 82,
   "id": "eef7878e",
   "metadata": {},
   "outputs": [
    {
     "name": "stdout",
     "output_type": "stream",
     "text": [
      "1/1 [==============================] - 0s 193ms/step\n"
     ]
    }
   ],
   "source": [
    "y_pred = model.model.predict(img_reshaped)\n"
   ]
  },
  {
   "cell_type": "code",
   "execution_count": 83,
   "id": "703bf160",
   "metadata": {},
   "outputs": [
    {
     "data": {
      "text/plain": [
       "array([[0.2039416 , 0.0511685 , 0.06476893, 0.06564128, 0.32889104,\n",
       "        0.07978324, 0.05676115, 0.14904426]], dtype=float32)"
      ]
     },
     "execution_count": 83,
     "metadata": {},
     "output_type": "execute_result"
    }
   ],
   "source": [
    "y_pred"
   ]
  },
  {
   "cell_type": "code",
   "execution_count": null,
   "id": "04ea2b49",
   "metadata": {},
   "outputs": [],
   "source": [
    "predicted_label = self.class_names[np.argmax(y_pred)]"
   ]
  },
  {
   "cell_type": "code",
   "execution_count": 1,
   "id": "2ede28f0",
   "metadata": {},
   "outputs": [],
   "source": [
    "import tempfile\n",
    "import random\n",
    "import os\n",
    "import tensorflow as tf\n",
    "from configs.CFG import CFG\n",
    "from model.my_CNN_model import My_CNN_model\n",
    "from dataloader.dataloader import DataLoader\n",
    "import numpy as np\n",
    "from PIL import Image\n",
    "model = My_CNN_model(CFG)\n",
    "model.build()\n"
   ]
  },
  {
   "cell_type": "code",
   "execution_count": 2,
   "id": "7d1b74c8",
   "metadata": {},
   "outputs": [],
   "source": [
    "test_dir = tempfile.TemporaryDirectory()"
   ]
  },
  {
   "cell_type": "code",
   "execution_count": 3,
   "id": "c2fccde9",
   "metadata": {},
   "outputs": [],
   "source": [
    "for i in range(5):  # Creation of 5 images for test\n",
    "    image_path = os.path.join(test_dir.name, f'test_image_{i}.png')\n",
    "    image = Image.new('RGB', (256, 256), (random.randint(0, 255), random.randint(0, 255), random.randint(0, 255)))\n",
    "    image.save(image_path)"
   ]
  },
  {
   "cell_type": "code",
   "execution_count": 4,
   "id": "fd17c703",
   "metadata": {},
   "outputs": [],
   "source": [
    "img_path = \"/var/folders/cq/36_5m7vj2p5gdh5m_ndm8l680000gn/T/tmp1u7vuh2p/test_image_3.png\""
   ]
  },
  {
   "cell_type": "code",
   "execution_count": 5,
   "id": "9e1b36f9",
   "metadata": {},
   "outputs": [
    {
     "data": {
      "text/plain": [
       "'/var/folders/cq/36_5m7vj2p5gdh5m_ndm8l680000gn/T/tmp1u7vuh2p/test_image_3.png'"
      ]
     },
     "execution_count": 5,
     "metadata": {},
     "output_type": "execute_result"
    }
   ],
   "source": [
    "img_path"
   ]
  },
  {
   "cell_type": "code",
   "execution_count": 6,
   "id": "1cf671c7",
   "metadata": {},
   "outputs": [
    {
     "name": "stdout",
     "output_type": "stream",
     "text": [
      "1/1 [==============================] - 0s 169ms/step\n"
     ]
    }
   ],
   "source": [
    "img = np.array(Image.open(img_path, \"r\"))\n",
    "img_norm, _ = model._normalize(img, 0)\n",
    "y_pred = model.model.predict(\n",
    "            tf.reshape(img_norm,tuple([1]+model.config.model.input_shape)))\n",
    "predicted_label = model.class_names[np.argmax(y_pred)]"
   ]
  },
  {
   "cell_type": "code",
   "execution_count": 7,
   "id": "e2a75f98",
   "metadata": {},
   "outputs": [
    {
     "data": {
      "text/plain": [
       "array([[0.11603005, 0.11952818, 0.11581317, 0.1785047 , 0.06014606,\n",
       "        0.09660354, 0.15985568, 0.15351863]], dtype=float32)"
      ]
     },
     "execution_count": 7,
     "metadata": {},
     "output_type": "execute_result"
    }
   ],
   "source": [
    "y_pred"
   ]
  },
  {
   "cell_type": "code",
   "execution_count": 9,
   "id": "a239bb0f",
   "metadata": {},
   "outputs": [
    {
     "name": "stdout",
     "output_type": "stream",
     "text": [
      "/var/folders/cq/36_5m7vj2p5gdh5m_ndm8l680000gn/T/tmpr48owy5s/test_image_3.png\n",
      "1/1 [==============================] - 0s 111ms/step\n",
      "/var/folders/cq/36_5m7vj2p5gdh5m_ndm8l680000gn/T/tmpr48owy5s/test_image_2.png\n",
      "1/1 [==============================] - 0s 101ms/step\n",
      "/var/folders/cq/36_5m7vj2p5gdh5m_ndm8l680000gn/T/tmpr48owy5s/test_image_0.png\n",
      "1/1 [==============================] - 0s 97ms/step\n",
      "/var/folders/cq/36_5m7vj2p5gdh5m_ndm8l680000gn/T/tmpr48owy5s/test_image_1.png\n",
      "1/1 [==============================] - 0s 95ms/step\n",
      "/var/folders/cq/36_5m7vj2p5gdh5m_ndm8l680000gn/T/tmpr48owy5s/test_image_4.png\n",
      "1/1 [==============================] - 0s 99ms/step\n"
     ]
    }
   ],
   "source": [
    "predictions = model.predict(test_dir.name)"
   ]
  },
  {
   "cell_type": "code",
   "execution_count": 10,
   "id": "1d88363f",
   "metadata": {},
   "outputs": [
    {
     "data": {
      "text/plain": [
       "['class_3', 'class_3', 'class_3', 'class_3', 'class_3']"
      ]
     },
     "execution_count": 10,
     "metadata": {},
     "output_type": "execute_result"
    }
   ],
   "source": [
    "predictions"
   ]
  },
  {
   "cell_type": "code",
   "execution_count": null,
   "id": "7fa81462",
   "metadata": {},
   "outputs": [],
   "source": []
  }
 ],
 "metadata": {
  "kernelspec": {
   "display_name": "Python 3 (ipykernel)",
   "language": "python",
   "name": "python3"
  },
  "language_info": {
   "codemirror_mode": {
    "name": "ipython",
    "version": 3
   },
   "file_extension": ".py",
   "mimetype": "text/x-python",
   "name": "python",
   "nbconvert_exporter": "python",
   "pygments_lexer": "ipython3",
   "version": "3.11.1"
  }
 },
 "nbformat": 4,
 "nbformat_minor": 5
}
